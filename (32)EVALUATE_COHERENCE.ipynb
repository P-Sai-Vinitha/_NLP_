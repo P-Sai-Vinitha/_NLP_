{
  "nbformat": 4,
  "nbformat_minor": 0,
  "metadata": {
    "colab": {
      "provenance": [],
      "authorship_tag": "ABX9TyPonrz+yVQtm2Ds8YJHkcxd",
      "include_colab_link": true
    },
    "kernelspec": {
      "name": "python3",
      "display_name": "Python 3"
    },
    "language_info": {
      "name": "python"
    }
  },
  "cells": [
    {
      "cell_type": "markdown",
      "metadata": {
        "id": "view-in-github",
        "colab_type": "text"
      },
      "source": [
        "<a href=\"https://colab.research.google.com/github/P-Sai-Vinitha/_NLP_/blob/main/(32)EVALUATE_COHERENCE.ipynb\" target=\"_parent\"><img src=\"https://colab.research.google.com/assets/colab-badge.svg\" alt=\"Open In Colab\"/></a>"
      ]
    },
    {
      "cell_type": "code",
      "execution_count": null,
      "metadata": {
        "colab": {
          "base_uri": "https://localhost:8080/"
        },
        "id": "Dp9OyOx2RKvI",
        "outputId": "1be4fe0d-4497-4ad5-ad15-a079dc3fd115"
      },
      "outputs": [
        {
          "output_type": "stream",
          "name": "stdout",
          "text": [
            "Coherence Percentage: 0.0\n"
          ]
        }
      ],
      "source": [
        "def evaluate_coherence(text):\n",
        "    sentences = text.split(\".\")\n",
        "    coherence_score = 0\n",
        "\n",
        "    for i in range(len(sentences) - 1):\n",
        "        current_sentence = sentences[i].strip()\n",
        "        next_sentence = sentences[i + 1].strip()\n",
        "\n",
        "        # Check if the last word of the current sentence is also the first word of the next sentence\n",
        "        current_words = current_sentence.split()\n",
        "        next_words = next_sentence.split()\n",
        "\n",
        "        if current_words and next_words and current_words[-1].lower() == next_words[0].lower():\n",
        "            coherence_score += 1\n",
        "\n",
        "    total_sentences = len(sentences)\n",
        "    coherence_percentage = (coherence_score / max(1, total_sentences - 1)) * 100\n",
        "\n",
        "    return coherence_percentage\n",
        "\n",
        "# Example text\n",
        "sample_text = \"Once upon a time, there was a young boy named Peter. He lived in a small village. One day, he decided to explore the nearby forest.\"\n",
        "\n",
        "# Evaluate coherence\n",
        "coherence_percentage = evaluate_coherence(sample_text)\n",
        "\n",
        "print(\"Coherence Percentage:\", coherence_percentage)\n"
      ]
    }
  ]
}